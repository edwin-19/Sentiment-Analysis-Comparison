{
 "cells": [
  {
   "cell_type": "code",
   "execution_count": null,
   "id": "forward-sauce",
   "metadata": {},
   "outputs": [],
   "source": [
    "from accelerate import Accelerator, DistributedType\n",
    "\n",
    "from transformers import BertForSequenceClassification, BertTokenizer\n",
    "from transformers import AdamW, get_linear_schedule_with_warmup\n",
    "import datasets\n",
    "import torch\n",
    "import torch.nn\n",
    "from torch.utils.data import Dataset, DataLoader, SequentialSampler, RandomSampler\n",
    "from tqdm.notebook import tqdm\n",
    "\n",
    "import numpy as np\n",
    "import pandas as pd\n",
    "from matplotlib import pyplot as plt\n",
    "from sklearn.model_selection import train_test_split"
   ]
  },
  {
   "cell_type": "code",
   "execution_count": null,
   "id": "composite-papua",
   "metadata": {},
   "outputs": [],
   "source": [
    "batch_size = 32\n",
    "lr = 2e-5\n",
    "epochs = 5"
   ]
  },
  {
   "cell_type": "markdown",
   "id": "moved-neutral",
   "metadata": {},
   "source": [
    "# Load Data"
   ]
  },
  {
   "cell_type": "code",
   "execution_count": null,
   "id": "comfortable-cornwall",
   "metadata": {},
   "outputs": [],
   "source": [
    "tokenizer = BertTokenizer.from_pretrained('bert-base-uncased')"
   ]
  },
  {
   "cell_type": "code",
   "execution_count": null,
   "id": "little-visitor",
   "metadata": {},
   "outputs": [],
   "source": [
    "df = pd.read_csv('data/filtered.csv')\n",
    "df = df.dropna()\n",
    "df['target'] = df['target'].apply(lambda x:1 if x == 4 else 0)\n",
    "\n",
    "train_df, eval_df = train_test_split(df, test_size=0.2, random_state=2020)\n",
    "eval_df, test_df = train_test_split(eval_df, test_size=0.2, random_state=2020)"
   ]
  },
  {
   "cell_type": "code",
   "execution_count": null,
   "id": "reliable-might",
   "metadata": {},
   "outputs": [],
   "source": [
    "class SentimentDataset(Dataset):\n",
    "    def __init__(self, tokenizer, df, max_length=100):\n",
    "        self.df = df\n",
    "        self.tokenizer = tokenizer\n",
    "        self.max_length = max_length\n",
    "    \n",
    "    def __len__(self):\n",
    "        return self.df.shape[0]\n",
    "        \n",
    "    def __getitem__(self, index):\n",
    "        selected_df = self.df.iloc[index]\n",
    "        text = selected_df['text']\n",
    "        labels = selected_df['target']\n",
    "        \n",
    "        input_ids= self.tokenizer.encode_plus(\n",
    "            text, truncation=True, max_length=self.max_length,\n",
    "            return_tensors='pt', padding='max_length',add_special_tokens=True \n",
    "        )\n",
    "        \n",
    "        return {\n",
    "            'input_ids': input_ids['input_ids'].squeeze(),\n",
    "            'attn_mask': input_ids['attention_mask'].squeeze(),\n",
    "            'token_type_ids': input_ids['token_type_ids'].squeeze(),\n",
    "            'labels': torch.tensor(labels, dtype=torch.long)\n",
    "        }"
   ]
  },
  {
   "cell_type": "code",
   "execution_count": null,
   "id": "starting-swift",
   "metadata": {},
   "outputs": [],
   "source": [
    "train_dataset = SentimentDataset(tokenizer, train_df)\n",
    "train_sample = RandomSampler(train_dataset)\n",
    "train_dataloader = DataLoader(train_dataset, sampler=train_sample, batch_size=batch_size)\n",
    "\n",
    "eval_dataset = SentimentDataset(tokenizer, eval_df)\n",
    "eval_sampler = RandomSampler(eval_dataset)\n",
    "eval_dataloader = DataLoader(eval_dataset, sampler=eval_sampler, batch_size=batch_size)"
   ]
  },
  {
   "cell_type": "markdown",
   "id": "expired-independence",
   "metadata": {},
   "source": [
    "# Build model"
   ]
  },
  {
   "cell_type": "code",
   "execution_count": null,
   "id": "silver-disney",
   "metadata": {},
   "outputs": [],
   "source": [
    "model = BertForSequenceClassification.from_pretrained('bert-base-uncased', num_labels=2)\n",
    "model = model.to('cuda')"
   ]
  },
  {
   "cell_type": "code",
   "execution_count": null,
   "id": "incoming-childhood",
   "metadata": {},
   "outputs": [],
   "source": [
    "optimizer = AdamW(params=model.parameters(), lr=lr)\n",
    "\n",
    "lr_scheduler = get_linear_schedule_with_warmup(\n",
    "    optimizer=optimizer,\n",
    "    num_warmup_steps=100,\n",
    "    num_training_steps=len(train_dataloader) * epochs,\n",
    ")"
   ]
  },
  {
   "cell_type": "markdown",
   "id": "celtic-interface",
   "metadata": {},
   "source": [
    "# Build training loop"
   ]
  },
  {
   "cell_type": "code",
   "execution_count": null,
   "id": "checked-impossible",
   "metadata": {},
   "outputs": [],
   "source": [
    "for i in tqdm(range(epochs)):\n",
    "    model.train()\n",
    "    \n",
    "    for step, batch in enumerate(tqdm(train_dataloader)):\n",
    "        input_ids = batch['input_ids'].to('cuda')\n",
    "        attention_mask = batch['attn_mask'].to('cuda')\n",
    "        token_type_ids = batch['token_type_ids'].to('cuda')\n",
    "        labels = batch['labels'].to('cuda')\n",
    "        \n",
    "        optimizer.zero_grad()\n",
    "        \n",
    "        outputs = model(\n",
    "            input_ids, \n",
    "            token_type_ids=token_type_ids, \n",
    "            attention_mask=attention_mask, \n",
    "            labels=labels\n",
    "        )\n",
    "        loss = outputs[0]\n",
    "        loss.backward()\n",
    "        \n",
    "        torch.nn.utils.clip_grad_norm_(model.parameters(), 1.0)\n",
    "        optimizer.step()\n",
    "        lr_scheduler.step()"
   ]
  }
 ],
 "metadata": {
  "kernelspec": {
   "display_name": "Python 3",
   "language": "python",
   "name": "python3"
  },
  "language_info": {
   "codemirror_mode": {
    "name": "ipython",
    "version": 3
   },
   "file_extension": ".py",
   "mimetype": "text/x-python",
   "name": "python",
   "nbconvert_exporter": "python",
   "pygments_lexer": "ipython3",
   "version": "3.8.8"
  }
 },
 "nbformat": 4,
 "nbformat_minor": 5
}
