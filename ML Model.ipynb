{
 "cells": [
  {
   "cell_type": "code",
   "execution_count": 1,
   "metadata": {},
   "outputs": [],
   "source": [
    "from xgboost import XGBClassifier\n",
    "from lightgbm import LGBMClassifier\n",
    "\n",
    "import pandas as pd\n",
    "import numpy as np\n",
    "import re\n",
    "import pickle\n",
    "import os\n",
    "\n",
    "from sklearn.feature_extraction.text import CountVectorizer, TfidfVectorizer\n",
    "from sklearn.model_selection import train_test_split, GridSearchCV\n",
    "from sklearn.metrics import classification_report, confusion_matrix\n",
    "\n",
    "import seaborn as sns\n",
    "from matplotlib import pyplot as plt"
   ]
  },
  {
   "cell_type": "code",
   "execution_count": 2,
   "metadata": {},
   "outputs": [],
   "source": [
    "DATASET_COLUMNS = [\"target\", \"ids\", \"date\", \"flag\", \"user\", \"text\"]"
   ]
  },
  {
   "cell_type": "code",
   "execution_count": 3,
   "metadata": {},
   "outputs": [],
   "source": [
    "df = pd.read_csv('data/archive/training.1600000.processed.noemoticon.csv', encoding='ISO-8859-1', names=DATASET_COLUMNS)"
   ]
  },
  {
   "cell_type": "markdown",
   "metadata": {},
   "source": [
    "# Clean Text"
   ]
  },
  {
   "cell_type": "code",
   "execution_count": 4,
   "metadata": {},
   "outputs": [],
   "source": [
    "# Lets clean up the text\n",
    "def remove_tag(string):\n",
    "    return re.sub('<.*?>','',string)\n",
    "\n",
    "def remove_mention(text):\n",
    "    return re.sub(r'@\\w+','',text)\n",
    "\n",
    "def remove_hash(text):\n",
    "    return re.sub(r'#\\w+','',text)\n",
    "\n",
    "def remove_newline(string):\n",
    "    return re.sub('\\n', '', string)\n",
    "\n",
    "def remove_url(string):\n",
    "    return re.sub('http[s]?://(?:[a-zA-Z]|[0-9]|[$-_@.&+]|[!*\\(\\),]|(?:%[0-9a-fA-F][0-9a-fA-F]))+','',string)\n",
    "\n",
    "def remove_number(text):\n",
    "    return re.sub(r'[0-9]+','',text)\n",
    "\n",
    "def remove_punc(text):\n",
    "    return re.sub(r'[!\"\\$%&\\'()*+,\\-.\\/:;=#@?\\[\\\\\\]^_`{|}~]*','',text)\n",
    "\n",
    "def text_strip(string):\n",
    "    return re.sub('\\s{2,}', ' ', string.strip())\n",
    "\n",
    "def remove_thi_amp_ha_words(string):\n",
    "    return re.sub(r'\\bamp\\b|\\bthi\\b|\\bha\\b',' ',string)\n",
    "\n",
    "def clean_text(text):\n",
    "    text = text.lower()\n",
    "    text = remove_tag(text)\n",
    "    text = remove_mention(text)\n",
    "    text = remove_newline(text)\n",
    "    text = remove_url(text)\n",
    "    text = remove_number(text)\n",
    "    text = remove_thi_amp_ha_words(text)\n",
    "    text = text_strip(text)\n",
    "    \n",
    "    return text"
   ]
  },
  {
   "cell_type": "code",
   "execution_count": 5,
   "metadata": {},
   "outputs": [],
   "source": [
    "df['text'] = df['text'].apply(lambda x: clean_text(x))"
   ]
  },
  {
   "cell_type": "markdown",
   "metadata": {},
   "source": [
    "# Feature Selection"
   ]
  },
  {
   "cell_type": "code",
   "execution_count": 6,
   "metadata": {},
   "outputs": [],
   "source": [
    "# lets split the data to 9:1 ratio for train and test\n",
    "x_train, x_test, y_train, y_test = train_test_split(\n",
    "    df['text'].tolist(), df['target'].tolist(), test_size=0.1, random_state=0\n",
    ")"
   ]
  },
  {
   "cell_type": "code",
   "execution_count": 7,
   "metadata": {},
   "outputs": [
    {
     "name": "stdout",
     "output_type": "stream",
     "text": [
      "No. of feature_words:  500000\n"
     ]
    }
   ],
   "source": [
    "# Feature extraction lets use tf-idf first\n",
    "vectorize = TfidfVectorizer(ngram_range=(1, 2), max_features=500000, stop_words='english')\n",
    "vectorize.fit(x_train)\n",
    "\n",
    "print('No. of feature_words: ', len(vectorize.get_feature_names()))"
   ]
  },
  {
   "cell_type": "code",
   "execution_count": 8,
   "metadata": {},
   "outputs": [],
   "source": [
    "x_train = vectorize.transform(x_train)\n",
    "x_test = vectorize.transform(x_test)"
   ]
  },
  {
   "cell_type": "code",
   "execution_count": 9,
   "metadata": {},
   "outputs": [],
   "source": [
    "# General purpose function evaluate model\n",
    "def evaluate_model(model):\n",
    "    y_pred = model.predict(x_test)\n",
    "\n",
    "    results = classification_report(y_test, y_pred)\n",
    "    cm = confusion_matrix(y_test, y_pred)\n",
    "\n",
    "    categories = ['Negative', 'Positive']\n",
    "    group_names = ['True Neg','False Pos', 'False Neg','True Pos']\n",
    "\n",
    "    group_percentage = [\n",
    "        '{0:.2%}'.format(value) for value in cm.ravel() / cm.sum()\n",
    "    ]\n",
    "\n",
    "    labels = [f'{v1}\\n{v2}' for v1, v2 in zip(group_names,group_percentage)]\n",
    "\n",
    "    labels = np.array(labels).reshape(2, 2)\n",
    "\n",
    "    plt.xlabel(\"Predicted values\", fontdict = {'size':14}, labelpad = 10)\n",
    "    plt.ylabel(\"Actual values\"   , fontdict = {'size':14}, labelpad = 10)\n",
    "    plt.title (\"Confusion Matrix\", fontdict = {'size':18}, pad = 20)\n",
    "    sns.heatmap(\n",
    "        cm, annot=labels, fmt='',\n",
    "        xticklabels=categories, yticklabels=categories\n",
    "    )\n",
    "\n",
    "    print(results)"
   ]
  },
  {
   "cell_type": "code",
   "execution_count": 10,
   "metadata": {},
   "outputs": [],
   "source": [
    "def save_model(model_path, model):\n",
    "    file = open(model_path, 'wb')\n",
    "    pickle.dump(model,file)\n",
    "    file.close()"
   ]
  },
  {
   "cell_type": "code",
   "execution_count": 11,
   "metadata": {},
   "outputs": [],
   "source": [
    "def load_model(model_path):\n",
    "    file = open(model_path, 'rb')\n",
    "    model = pickle.load(file)\n",
    "    return model"
   ]
  },
  {
   "cell_type": "markdown",
   "metadata": {},
   "source": [
    "# XGBoost"
   ]
  },
  {
   "cell_type": "code",
   "execution_count": null,
   "metadata": {
    "scrolled": true
   },
   "outputs": [],
   "source": [
    "xgb_model = XGBClassifier(\n",
    "    max_depth=4, n_estimators=2000, \n",
    "    nthread=4, min_child_weight=6, gamma=0, \n",
    "    subsample=0.8, colsample_bytree=0.8,\n",
    ")\n",
    "\n",
    "xgb_model.fit(\n",
    "    x_train, y_train, \n",
    "    eval_metric='error', eval_set=[(x_test, y_test)], \n",
    "    verbose=True\n",
    ")"
   ]
  },
  {
   "cell_type": "code",
   "execution_count": null,
   "metadata": {
    "scrolled": false
   },
   "outputs": [],
   "source": [
    "evaluate_model(xgb_model)"
   ]
  },
  {
   "cell_type": "code",
   "execution_count": null,
   "metadata": {},
   "outputs": [],
   "source": [
    "model_path = 'model/mlmodel/xgboost/xgboost_sentiment.pickle'\n",
    "save_model(model_path, xgb_model)"
   ]
  },
  {
   "cell_type": "markdown",
   "metadata": {},
   "source": [
    "# Inference"
   ]
  },
  {
   "cell_type": "code",
   "execution_count": null,
   "metadata": {},
   "outputs": [],
   "source": [
    "# Simple inference\n",
    "text = [\n",
    "    'this is the time of your life',\n",
    "    'you are stupid',\n",
    "    'life is worth living',\n",
    "    'why work at all'\n",
    "]"
   ]
  },
  {
   "cell_type": "code",
   "execution_count": null,
   "metadata": {},
   "outputs": [],
   "source": [
    "text_feature = vectorize.transform(text)"
   ]
  },
  {
   "cell_type": "code",
   "execution_count": null,
   "metadata": {},
   "outputs": [],
   "source": [
    "preds = xgb_model_loaded.predict(text_feature)\n",
    "\n",
    "for index, pred in enumerate(preds):\n",
    "    if pred == 0:\n",
    "        print('{}, sentiment: {}'.format(text[index], 'negative'))\n",
    "    else:\n",
    "        print('{}, sentiment: {}'.format(text[index], 'positive'))"
   ]
  },
  {
   "cell_type": "markdown",
   "metadata": {},
   "source": [
    "# LightGBM"
   ]
  },
  {
   "cell_type": "code",
   "execution_count": 153,
   "metadata": {},
   "outputs": [],
   "source": [
    "lgbm_model = LGBMClassifier(\n",
    "    num_leaves=400, max_depth=9, \n",
    "    learning_rate=0.01, n_estimators=2000,\n",
    "    feature_fraction=0.64, early_stopping_rounds=10,\n",
    "    boosting_type='goss'\n",
    ")"
   ]
  },
  {
   "cell_type": "code",
   "execution_count": 154,
   "metadata": {
    "scrolled": true
   },
   "outputs": [
    {
     "name": "stdout",
     "output_type": "stream",
     "text": [
      "[LightGBM] [Warning] early_stopping_round is set=10, early_stopping_rounds=10 will be ignored. Current value: early_stopping_round=10\n",
      "[LightGBM] [Warning] feature_fraction is set=0.64, colsample_bytree=1.0 will be ignored. Current value: feature_fraction=0.64\n",
      "[1]\tvalid_0's binary_error: 0.447263\tvalid_0's binary_logloss: 0.692414\n",
      "Training until validation scores don't improve for 10 rounds\n",
      "[2]\tvalid_0's binary_error: 0.418869\tvalid_0's binary_logloss: 0.691616\n",
      "[3]\tvalid_0's binary_error: 0.394663\tvalid_0's binary_logloss: 0.69119\n",
      "[4]\tvalid_0's binary_error: 0.388425\tvalid_0's binary_logloss: 0.690447\n",
      "[5]\tvalid_0's binary_error: 0.388369\tvalid_0's binary_logloss: 0.689741\n",
      "[6]\tvalid_0's binary_error: 0.388819\tvalid_0's binary_logloss: 0.688965\n",
      "[7]\tvalid_0's binary_error: 0.388756\tvalid_0's binary_logloss: 0.688281\n",
      "[8]\tvalid_0's binary_error: 0.388706\tvalid_0's binary_logloss: 0.687567\n",
      "[9]\tvalid_0's binary_error: 0.388569\tvalid_0's binary_logloss: 0.686975\n",
      "[10]\tvalid_0's binary_error: 0.388537\tvalid_0's binary_logloss: 0.686311\n",
      "[11]\tvalid_0's binary_error: 0.388469\tvalid_0's binary_logloss: 0.68561\n",
      "[12]\tvalid_0's binary_error: 0.388487\tvalid_0's binary_logloss: 0.684993\n",
      "[13]\tvalid_0's binary_error: 0.388569\tvalid_0's binary_logloss: 0.684316\n",
      "[14]\tvalid_0's binary_error: 0.388581\tvalid_0's binary_logloss: 0.683702\n",
      "[15]\tvalid_0's binary_error: 0.388656\tvalid_0's binary_logloss: 0.683074\n",
      "Early stopping, best iteration is:\n",
      "[5]\tvalid_0's binary_error: 0.388369\tvalid_0's binary_logloss: 0.689741\n"
     ]
    },
    {
     "data": {
      "text/plain": [
       "LGBMClassifier(boosting_type='goss', early_stopping_rounds=10,\n",
       "               feature_fraction=0.64, learning_rate=0.01, max_depth=9,\n",
       "               n_estimators=2000, num_leaves=400)"
      ]
     },
     "execution_count": 154,
     "metadata": {},
     "output_type": "execute_result"
    }
   ],
   "source": [
    "lgbm_model.fit(\n",
    "    x_train, y_train, \n",
    "    eval_metric='error', eval_set=[(x_test, y_test)],\n",
    "    verbose=True\n",
    ")"
   ]
  },
  {
   "cell_type": "code",
   "execution_count": 155,
   "metadata": {},
   "outputs": [
    {
     "name": "stdout",
     "output_type": "stream",
     "text": [
      "              precision    recall  f1-score   support\n",
      "\n",
      "           0       0.80      0.29      0.43     79738\n",
      "           4       0.57      0.93      0.71     80262\n",
      "\n",
      "    accuracy                           0.61    160000\n",
      "   macro avg       0.69      0.61      0.57    160000\n",
      "weighted avg       0.69      0.61      0.57    160000\n",
      "\n"
     ]
    },
    {
     "data": {
      "image/png": "[encoded data removed]",
      "text/plain": [
       "<Figure size 432x288 with 2 Axes>"
      ]
     },
     "metadata": {
      "needs_background": "light"
     },
     "output_type": "display_data"
    }
   ],
   "source": [
    "evaluate_model(lgbm_model)"
   ]
  }
 ],
 "metadata": {
  "kernelspec": {
   "display_name": "Python 3",
   "language": "python",
   "name": "python3"
  },
  "language_info": {
   "codemirror_mode": {
    "name": "ipython",
    "version": 3
   },
   "file_extension": ".py",
   "mimetype": "text/x-python",
   "name": "python",
   "nbconvert_exporter": "python",
   "pygments_lexer": "ipython3",
   "version": "3.8.8"
  }
 },
 "nbformat": 4,
 "nbformat_minor": 4
}
